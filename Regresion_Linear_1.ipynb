{
  "nbformat": 4,
  "nbformat_minor": 0,
  "metadata": {
    "colab": {
      "name": "Regresion Linear 1.ipynb",
      "provenance": [],
      "include_colab_link": true
    },
    "kernelspec": {
      "name": "python3",
      "display_name": "Python 3"
    }
  },
  "cells": [
    {
      "cell_type": "markdown",
      "metadata": {
        "id": "view-in-github",
        "colab_type": "text"
      },
      "source": [
        "<a href=\"https://colab.research.google.com/github/snovamo86861/MachineLearning/blob/master/Regresion_Linear_1.ipynb\" target=\"_parent\"><img src=\"https://colab.research.google.com/assets/colab-badge.svg\" alt=\"Open In Colab\"/></a>"
      ]
    },
    {
      "cell_type": "markdown",
      "metadata": {
        "id": "TUM9XloUOA9e",
        "colab_type": "text"
      },
      "source": [
        "**Implementación de regresión lineal en Pytorch, Regresión logística, Implementación de regresión logística en Pytorch**\n"
      ]
    },
    {
      "cell_type": "code",
      "metadata": {
        "id": "ArdpgX5JHxVX",
        "colab_type": "code",
        "colab": {}
      },
      "source": [
        "\n",
        "#Importar modulos\n",
        "import torch\n",
        "import numpy as np #para trabajar con arreglos\n",
        "import torch.nn as nn #regresion linear\n",
        "import torch.optim as optim # optimizacion necesria \n",
        "import matplotlib.pyplot as plt"
      ],
      "execution_count": 0,
      "outputs": []
    },
    {
      "cell_type": "markdown",
      "metadata": {
        "id": "ATsnDv7tIMgh",
        "colab_type": "text"
      },
      "source": [
        "Regresion Linear"
      ]
    },
    {
      "cell_type": "code",
      "metadata": {
        "id": "hEoJiXqQINus",
        "colab_type": "code",
        "colab": {
          "base_uri": "https://localhost:8080/",
          "height": 282
        },
        "outputId": "dce34162-8c9d-4784-82c8-9366e536e38d"
      },
      "source": [
        "car_prices = [5, 6, 7, 8, 9, 10]\n",
        "units_sold = [8.5, 8.0, 7.5, 7.0, 6.5, 6.0]\n",
        "\n",
        "plt.scatter(car_prices, units_sold)"
      ],
      "execution_count": 32,
      "outputs": [
        {
          "output_type": "execute_result",
          "data": {
            "text/plain": [
              "<matplotlib.collections.PathCollection at 0x7f8e336e09e8>"
            ]
          },
          "metadata": {
            "tags": []
          },
          "execution_count": 32
        },
        {
          "output_type": "display_data",
          "data": {
            "image/png": "[encoded data removed]",
            "text/plain": [
              "<Figure size 432x288 with 1 Axes>"
            ]
          },
          "metadata": {
            "tags": []
          }
        }
      ]
    },
    {
      "cell_type": "code",
      "metadata": {
        "id": "z_RXKIRGIkQ7",
        "colab_type": "code",
        "colab": {
          "base_uri": "https://localhost:8080/",
          "height": 119
        },
        "outputId": "65bd80a9-0031-488d-d5eb-e8479e269a9b"
      },
      "source": [
        "#De numpy a tensor\n",
        "#1 Arreglo \n",
        "prices_array = np.array(car_prices).reshape(-1, 1)\n",
        "units_array = np.array(units_sold).reshape(-1, 1)\n",
        "prices_array"
      ],
      "execution_count": 33,
      "outputs": [
        {
          "output_type": "execute_result",
          "data": {
            "text/plain": [
              "array([[ 5],\n",
              "       [ 6],\n",
              "       [ 7],\n",
              "       [ 8],\n",
              "       [ 9],\n",
              "       [10]])"
            ]
          },
          "metadata": {
            "tags": []
          },
          "execution_count": 33
        }
      ]
    },
    {
      "cell_type": "code",
      "metadata": {
        "id": "iO8iah_oJHaZ",
        "colab_type": "code",
        "colab": {
          "base_uri": "https://localhost:8080/",
          "height": 119
        },
        "outputId": "fc66ff79-e770-4521-9b81-134b7672a83f"
      },
      "source": [
        "#Convertir a tensor en los dos casos\n",
        "prices = torch.from_numpy(prices_array).float().requires_grad_(True)\n",
        "\n",
        "units = torch.from_numpy(units_array).float()\n",
        "\n",
        "prices, prices.shape\n"
      ],
      "execution_count": 34,
      "outputs": [
        {
          "output_type": "execute_result",
          "data": {
            "text/plain": [
              "(tensor([[ 5.],\n",
              "         [ 6.],\n",
              "         [ 7.],\n",
              "         [ 8.],\n",
              "         [ 9.],\n",
              "         [10.]], requires_grad=True), torch.Size([6, 1]))"
            ]
          },
          "metadata": {
            "tags": []
          },
          "execution_count": 34
        }
      ]
    },
    {
      "cell_type": "code",
      "metadata": {
        "id": "eQZgJl7ZJ7Ks",
        "colab_type": "code",
        "colab": {
          "base_uri": "https://localhost:8080/",
          "height": 299
        },
        "outputId": "9e17cf59-0d44-4d28-f584-55305db58196"
      },
      "source": [
        "model = nn.Linear(1, 1)\n",
        "loss_function = nn.MSELoss()\n",
        "\n",
        "optimizer = optim.SGD(model.parameters(), lr=0.015) #lr  pasos para memorizar el loss\n",
        "\n",
        "losses = []\n",
        "iterations = 2000\n",
        "\n",
        "for i in range(iterations):\n",
        "  pred = model(prices)\n",
        "  loss = loss_function(pred, units)\n",
        "  losses.append(loss.data)\n",
        "\n",
        "  optimizer.zero_grad()\n",
        "  loss.backward()\n",
        "  optimizer.step()\n",
        "\n",
        "print(loss)\n",
        "plt.plot(range(iterations), losses)"
      ],
      "execution_count": 35,
      "outputs": [
        {
          "output_type": "stream",
          "text": [
            "tensor(0.0182, grad_fn=<MseLossBackward>)\n"
          ],
          "name": "stdout"
        },
        {
          "output_type": "execute_result",
          "data": {
            "text/plain": [
              "[<matplotlib.lines.Line2D at 0x7f8e336bba58>]"
            ]
          },
          "metadata": {
            "tags": []
          },
          "execution_count": 35
        },
        {
          "output_type": "display_data",
          "data": {
            "image/png": "[encoded data removed]",
            "text/plain": [
              "<Figure size 432x288 with 1 Axes>"
            ]
          },
          "metadata": {
            "tags": []
          }
        }
      ]
    },
    {
      "cell_type": "code",
      "metadata": {
        "id": "OARkOGDwK7g4",
        "colab_type": "code",
        "colab": {
          "base_uri": "https://localhost:8080/",
          "height": 34
        },
        "outputId": "8c439f0a-4899-4c75-cf0a-248b2c3b4a44"
      },
      "source": [
        "#Prediccion\n",
        "\n",
        "X = torch.Tensor([[4.0]])\n",
        "p = model(X)\n",
        "p"
      ],
      "execution_count": 36,
      "outputs": [
        {
          "output_type": "execute_result",
          "data": {
            "text/plain": [
              "tensor([[8.7011]], grad_fn=<AddmmBackward>)"
            ]
          },
          "metadata": {
            "tags": []
          },
          "execution_count": 36
        }
      ]
    },
    {
      "cell_type": "code",
      "metadata": {
        "id": "DXnXJ6GbNs_x",
        "colab_type": "code",
        "colab": {}
      },
      "source": [
        ""
      ],
      "execution_count": 0,
      "outputs": []
    },
    {
      "cell_type": "markdown",
      "metadata": {
        "id": "EbcF7dDCyzpd",
        "colab_type": "text"
      },
      "source": [
        "### Implementación de regresión logística en **Pytorch**"
      ]
    },
    {
      "cell_type": "code",
      "metadata": {
        "id": "pl3KDKWVz5hq",
        "colab_type": "code",
        "colab": {}
      },
      "source": [
        "#Importar modulos\n",
        "import torch\n",
        "import numpy as np #para trabajar con arreglos\n",
        "import torch.nn as nn #regresion linear\n",
        "import torch.optim as optim # optimizacion necesria \n",
        "import matplotlib.pyplot as plt\n",
        "import plotly.express as px\n",
        "import plotly.graph_objects as go"
      ],
      "execution_count": 0,
      "outputs": []
    },
    {
      "cell_type": "code",
      "metadata": {
        "id": "Ms9VxQ3_y3DD",
        "colab_type": "code",
        "colab": {
          "base_uri": "https://localhost:8080/",
          "height": 1000
        },
        "outputId": "3a72b05e-645b-4640-ca40-440250ff2b91"
      },
      "source": [
        "n = 100 \n",
        "h = n//2\n",
        "dimen = 2\n",
        "\n",
        "data = np.random.randn(n, dimen)*3\n",
        "data"
      ],
      "execution_count": 19,
      "outputs": [
        {
          "output_type": "execute_result",
          "data": {
            "text/plain": [
              "array([[ 1.15943009e+00,  6.10545490e-01],\n",
              "       [-1.57076293e+00,  3.35170854e+00],\n",
              "       [ 4.48644747e+00, -2.78413348e+00],\n",
              "       [-5.36110370e+00,  7.45997748e+00],\n",
              "       [-3.16276106e-02, -3.68994298e+00],\n",
              "       [-4.56440971e+00, -3.38506706e+00],\n",
              "       [-5.41984347e+00, -1.48827934e+00],\n",
              "       [-1.02909336e-03,  8.91191465e-01],\n",
              "       [-1.24977227e+00, -6.01792094e+00],\n",
              "       [ 5.41435567e-01,  1.07556942e+00],\n",
              "       [-3.89340824e+00, -2.33957642e+00],\n",
              "       [ 1.52988305e+00,  3.78613870e+00],\n",
              "       [ 3.34017864e+00, -1.21527456e+00],\n",
              "       [-1.87881422e+00,  1.48734098e-01],\n",
              "       [ 2.82233435e+00, -5.10267199e+00],\n",
              "       [ 2.35030631e+00, -2.04266621e-01],\n",
              "       [ 2.70703253e+00,  1.19793369e-01],\n",
              "       [-2.45887163e+00, -2.08102439e-01],\n",
              "       [ 2.31945388e+00, -3.88153287e+00],\n",
              "       [ 5.12521865e+00,  3.27498259e+00],\n",
              "       [ 1.45717521e+00,  6.86696552e+00],\n",
              "       [ 9.66926038e-01,  1.31305772e+00],\n",
              "       [ 2.24805870e+00, -5.41935578e+00],\n",
              "       [-1.91053498e+00,  1.10376251e+00],\n",
              "       [-5.67648880e-01,  7.58603371e-01],\n",
              "       [ 8.72866045e-01,  2.91156163e-01],\n",
              "       [-1.54669426e+00,  1.02345547e+00],\n",
              "       [-7.46974124e-01, -4.17792564e-01],\n",
              "       [-3.76760524e+00, -2.90831440e+00],\n",
              "       [ 2.55996995e+00,  8.71656746e-02],\n",
              "       [ 1.14850804e+00, -1.11558141e+00],\n",
              "       [ 3.69671005e+00, -3.44103696e+00],\n",
              "       [-2.32554063e-01,  1.07159734e+00],\n",
              "       [ 7.88638733e-01,  1.49388342e+00],\n",
              "       [-3.65648316e+00, -1.50278479e-01],\n",
              "       [ 2.58616885e+00,  8.00081031e-02],\n",
              "       [-1.59110845e+00,  2.16633564e-01],\n",
              "       [ 1.63508248e+00, -2.30992748e+00],\n",
              "       [-1.07820796e+00,  3.12214843e-01],\n",
              "       [-6.71291666e-01,  8.51059703e-01],\n",
              "       [-1.81150348e+00, -3.28467245e+00],\n",
              "       [-1.00768389e+00,  1.75199308e-01],\n",
              "       [ 2.02824772e+00, -4.58040040e+00],\n",
              "       [-1.73143660e+00,  2.07084873e+00],\n",
              "       [-3.58779909e+00, -3.42322063e+00],\n",
              "       [-1.81066646e+00, -5.30910831e-01],\n",
              "       [-1.74480850e+00, -6.99098865e+00],\n",
              "       [ 3.95481417e+00,  1.06164629e+00],\n",
              "       [-3.44126052e+00, -1.29334247e+00],\n",
              "       [-3.85916918e+00,  1.59995887e+00],\n",
              "       [-4.11358358e+00, -4.31632858e+00],\n",
              "       [-1.00306517e+00,  1.52180722e+00],\n",
              "       [-7.21162281e+00,  5.62056677e-01],\n",
              "       [ 2.09802665e+00, -1.98028815e+00],\n",
              "       [ 1.83485452e+00,  1.39701298e+00],\n",
              "       [-5.54891210e+00,  4.88050528e+00],\n",
              "       [ 2.55893429e+00,  3.79177761e+00],\n",
              "       [ 1.82339563e+00,  4.99109497e+00],\n",
              "       [-3.27560933e+00, -1.93137530e+00],\n",
              "       [ 1.49771786e+00,  2.09519111e+00],\n",
              "       [-1.80199222e-01,  3.42520381e+00],\n",
              "       [-2.51931603e+00, -3.36589447e-01],\n",
              "       [-6.67713203e+00,  6.37854584e-01],\n",
              "       [-7.11147340e-01, -4.16201049e-01],\n",
              "       [-2.24869439e+00,  3.59311677e+00],\n",
              "       [-1.53135824e+00, -3.51880594e+00],\n",
              "       [ 5.35431057e-01,  2.19073397e+00],\n",
              "       [ 2.28778462e+00, -1.73302496e+00],\n",
              "       [-4.86051465e+00,  5.91445416e+00],\n",
              "       [-6.14672901e-01, -4.71816843e-01],\n",
              "       [-1.72676747e+00,  7.40640200e-01],\n",
              "       [ 5.11904582e+00,  1.86707793e-02],\n",
              "       [ 2.33334452e-01,  1.72753145e+00],\n",
              "       [-4.25310641e-01,  5.61983042e-02],\n",
              "       [ 7.00071406e-01,  5.95403086e+00],\n",
              "       [ 1.75568613e+00,  1.84902635e+00],\n",
              "       [-4.03665356e+00,  4.20995920e+00],\n",
              "       [-3.08905363e-01, -8.04073159e-01],\n",
              "       [ 3.78039213e+00,  3.55652743e+00],\n",
              "       [-2.24154202e+00, -1.92968606e+00],\n",
              "       [-1.69033803e+00, -9.79243086e-01],\n",
              "       [-1.64755842e+00, -4.72132144e+00],\n",
              "       [ 1.08004618e+00, -3.04036337e-01],\n",
              "       [-3.28749042e+00,  2.88116742e+00],\n",
              "       [-7.07436810e-01,  2.42848750e+00],\n",
              "       [ 1.71896258e+00,  2.06956899e+00],\n",
              "       [ 1.29945173e-01,  5.03124235e+00],\n",
              "       [ 1.94195554e+00, -2.85108321e+00],\n",
              "       [ 2.16785512e+00, -1.67148838e+00],\n",
              "       [-1.97177083e+00,  6.95109384e+00],\n",
              "       [-2.45028956e+00, -2.39908394e+00],\n",
              "       [ 1.28395874e+00, -2.69112766e+00],\n",
              "       [-6.84882007e+00, -3.19375729e+00],\n",
              "       [-5.26025221e+00, -7.32291398e+00],\n",
              "       [ 3.40432519e+00, -6.40407950e-01],\n",
              "       [-6.68986943e+00,  3.72094015e+00],\n",
              "       [ 5.59720647e+00, -4.48541583e+00],\n",
              "       [-4.24227539e+00, -7.91861651e-01],\n",
              "       [ 1.36702956e+00,  5.68085042e-01],\n",
              "       [-3.64458126e+00,  5.12901002e-01]])"
            ]
          },
          "metadata": {
            "tags": []
          },
          "execution_count": 19
        }
      ]
    },
    {
      "cell_type": "code",
      "metadata": {
        "id": "lKmYxvbJze0C",
        "colab_type": "code",
        "colab": {
          "base_uri": "https://localhost:8080/",
          "height": 283
        },
        "outputId": "d3bd967f-ac8b-4c78-b4af-cd45c25f6b6f"
      },
      "source": [
        "#preparar los datos\n",
        "plt.scatter(data[:,0], data[:,1])"
      ],
      "execution_count": 23,
      "outputs": [
        {
          "output_type": "execute_result",
          "data": {
            "text/plain": [
              "<matplotlib.collections.PathCollection at 0x7efcd4b5c860>"
            ]
          },
          "metadata": {
            "tags": []
          },
          "execution_count": 23
        },
        {
          "output_type": "display_data",
          "data": {
            "image/png": "[encoded data removed]",
            "text/plain": [
              "<Figure size 432x288 with 1 Axes>"
            ]
          },
          "metadata": {
            "tags": []
          }
        }
      ]
    },
    {
      "cell_type": "code",
      "metadata": {
        "id": "FV7BP8Tt5Xmy",
        "colab_type": "code",
        "colab": {}
      },
      "source": [
        ""
      ],
      "execution_count": 0,
      "outputs": []
    },
    {
      "cell_type": "code",
      "metadata": {
        "id": "p5gRvszM0ncr",
        "colab_type": "code",
        "colab": {}
      },
      "source": [
        "data[:h, :]= data[:h, :] - 3*np.ones((h,dimen))\n"
      ],
      "execution_count": 0,
      "outputs": []
    },
    {
      "cell_type": "code",
      "metadata": {
        "id": "0CgGuvWl4wk4",
        "colab_type": "code",
        "colab": {}
      },
      "source": [
        "data[:h, :]= data[:h, :] + 3*np.ones((h,dimen))"
      ],
      "execution_count": 0,
      "outputs": []
    },
    {
      "cell_type": "code",
      "metadata": {
        "id": "OO0OKkaE5maH",
        "colab_type": "code",
        "colab": {
          "base_uri": "https://localhost:8080/",
          "height": 282
        },
        "outputId": "4d393a73-e14c-43bc-a711-0eedba5e5516"
      },
      "source": [
        "colors = ['blue','red']\n",
        "\n",
        "color = np.array([colors[0]]*h + [colors[1]]*h).reshape(n)\n",
        "\n",
        "plt.scatter(data[:,0], data[:,1], c=color, s=75, alpha=0.6)\n"
      ],
      "execution_count": 44,
      "outputs": [
        {
          "output_type": "execute_result",
          "data": {
            "text/plain": [
              "<matplotlib.collections.PathCollection at 0x7efcd1e39a20>"
            ]
          },
          "metadata": {
            "tags": []
          },
          "execution_count": 44
        },
        {
          "output_type": "display_data",
          "data": {
            "image/png": "[encoded data removed]",
            "text/plain": [
              "<Figure size 432x288 with 1 Axes>"
            ]
          },
          "metadata": {
            "tags": []
          }
        }
      ]
    },
    {
      "cell_type": "code",
      "metadata": {
        "id": "tydskmoN5m0z",
        "colab_type": "code",
        "colab": {
          "base_uri": "https://localhost:8080/",
          "height": 34
        },
        "outputId": "e78ffa6f-cd58-4280-aa82-e3fd9d20533a"
      },
      "source": [
        "target = np.array([0]*h + [1]*h).reshape(n, 1)\n",
        "\n",
        "x = torch.from_numpy(data).float().requires_grad_(True)\n",
        "\n",
        "y = torch.from_numpy(target).float()\n",
        "\n",
        "x.shape, y.shape\n",
        "\n"
      ],
      "execution_count": 45,
      "outputs": [
        {
          "output_type": "execute_result",
          "data": {
            "text/plain": [
              "(torch.Size([100, 2]), torch.Size([100, 1]))"
            ]
          },
          "metadata": {
            "tags": []
          },
          "execution_count": 45
        }
      ]
    },
    {
      "cell_type": "code",
      "metadata": {
        "id": "PQ5xTZHv_bGh",
        "colab_type": "code",
        "colab": {
          "base_uri": "https://localhost:8080/",
          "height": 282
        },
        "outputId": "5befa8ac-f386-41e6-c6e9-adc72df0c89d"
      },
      "source": [
        "\n",
        "model = nn.Sequential(\n",
        "          nn.Linear(2,1),\n",
        "          nn.Sigmoid()\n",
        "      )\n",
        "loss_function = nn.BCELoss()\n",
        "\n",
        "optimizer = optim.SGD(model.parameters(), lr=0.01)\n",
        "\n",
        "losses = []\n",
        "\n",
        "iterations = 2000\n",
        "\n",
        "for i in range(iterations):\n",
        "  result = model(x)\n",
        "\n",
        "  loss = loss_function(result, y)\n",
        "  losses.append(loss.data)\n",
        "\n",
        "  optimizer.zero_grad()\n",
        "  loss.backward()\n",
        "\n",
        "  optimizer.step()\n",
        "\n",
        "plt.plot(range(iterations), losses)\n",
        "\n",
        "loss\n",
        "\n",
        "\n",
        "\n"
      ],
      "execution_count": 57,
      "outputs": [
        {
          "output_type": "execute_result",
          "data": {
            "text/plain": [
              "tensor(0.2220, grad_fn=<BinaryCrossEntropyBackward>)"
            ]
          },
          "metadata": {
            "tags": []
          },
          "execution_count": 57
        },
        {
          "output_type": "display_data",
          "data": {
            "image/png": "[encoded data removed]",
            "text/plain": [
              "<Figure size 432x288 with 1 Axes>"
            ]
          },
          "metadata": {
            "tags": []
          }
        }
      ]
    },
    {
      "cell_type": "code",
      "metadata": {
        "id": "dqxte3-SGDWZ",
        "colab_type": "code",
        "colab": {
          "base_uri": "https://localhost:8080/",
          "height": 34
        },
        "outputId": "5f886ce8-b4c6-49b5-8416-c585e19cfcd5"
      },
      "source": [
        "blue = torch.Tensor([[-5, -6]])\n",
        "prediction = model(blue).data[0][0] > 0.5\n",
        "#prediction\n",
        "print(colors[prediction])"
      ],
      "execution_count": 60,
      "outputs": [
        {
          "output_type": "stream",
          "text": [
            "blue\n"
          ],
          "name": "stdout"
        }
      ]
    },
    {
      "cell_type": "code",
      "metadata": {
        "id": "OStDkklMJu3P",
        "colab_type": "code",
        "colab": {
          "base_uri": "https://localhost:8080/",
          "height": 34
        },
        "outputId": "ddffbf4b-61d1-4232-8765-4244550a8954"
      },
      "source": [
        "red = torch.Tensor([[8, 6]])\n",
        "prediction = model(red).data[0][0] > 0.5\n",
        "#prediction\n",
        "print(colors[prediction])"
      ],
      "execution_count": 61,
      "outputs": [
        {
          "output_type": "stream",
          "text": [
            "red\n"
          ],
          "name": "stdout"
        }
      ]
    },
    {
      "cell_type": "code",
      "metadata": {
        "id": "0ZGb3DgnN0Us",
        "colab_type": "code",
        "colab": {
          "base_uri": "https://localhost:8080/",
          "height": 282
        },
        "outputId": "6ec916b8-36cc-4f5e-846c-b9e58b434ce4"
      },
      "source": [
        "w = list(model.parameters())\n",
        "w0 = w[0].data.numpy()\n",
        "w1 = w[1].data.numpy()\n",
        "\n",
        "plt.scatter(data[:,0], data[:,1], c=color, s=75, alpha=0.6)\n",
        "\n",
        "#linspace distribuye todos los numeros entre los dos parametros de enetrada que \n",
        "#le envie\n",
        "x_axis = np.linspace(-10, 10, n)\n",
        "\n",
        "#Y utilizo los pesos que obtuve del modelo y eso lo grafico sobre el scatter que \n",
        "#ya tenia antes. \n",
        "y_axis = -(w1[0] + x_axis*w0[0][0]) / w0[0][1]\n",
        "plt.plot(x_axis, y_axis,'g--')"
      ],
      "execution_count": 62,
      "outputs": [
        {
          "output_type": "execute_result",
          "data": {
            "text/plain": [
              "[<matplotlib.lines.Line2D at 0x7efcd61d76d8>]"
            ]
          },
          "metadata": {
            "tags": []
          },
          "execution_count": 62
        },
        {
          "output_type": "display_data",
          "data": {
            "image/png": "[encoded data removed]",
            "text/plain": [
              "<Figure size 432x288 with 1 Axes>"
            ]
          },
          "metadata": {
            "tags": []
          }
        }
      ]
    },
    {
      "cell_type": "code",
      "metadata": {
        "id": "rtQ0O5rHOj6f",
        "colab_type": "code",
        "colab": {}
      },
      "source": [
        ""
      ],
      "execution_count": 0,
      "outputs": []
    }
  ]
}