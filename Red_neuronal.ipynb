{
  "nbformat": 4,
  "nbformat_minor": 0,
  "metadata": {
    "colab": {
      "name": "Red_neuronal.ipynb",
      "provenance": [],
      "collapsed_sections": [],
      "include_colab_link": true
    },
    "kernelspec": {
      "name": "python3",
      "display_name": "Python 3"
    }
  },
  "cells": [
    {
      "cell_type": "markdown",
      "metadata": {
        "id": "view-in-github",
        "colab_type": "text"
      },
      "source": [
        "<a href=\"https://colab.research.google.com/github/snovamo86861/MachineLearning/blob/master/Red_neuronal.ipynb\" target=\"_parent\"><img src=\"https://colab.research.google.com/assets/colab-badge.svg\" alt=\"Open In Colab\"/></a>"
      ]
    },
    {
      "cell_type": "code",
      "metadata": {
        "id": "xYxR2Q0l-70T",
        "colab_type": "code",
        "colab": {}
      },
      "source": [
        "\n",
        "#Ejercicio: Vision de computadora \n",
        "import torch\n",
        "import torch.nn as nn\n",
        "import torch.optim as optim\n",
        "\n",
        "from torchvision import utils\n",
        "from torchvision import datasets\n",
        "from torchvision import transforms\n",
        "\n",
        "from PIL import Image\n",
        "import urllib.request as request\n",
        "from matplotlib import pyplot as plt\n",
        "#torch.set_printoptions(edgeitems=2) #default 3\n",
        "#torch.manual_seed(123)"
      ],
      "execution_count": 0,
      "outputs": []
    },
    {
      "cell_type": "code",
      "metadata": {
        "id": "1lRJxjBs---G",
        "colab_type": "code",
        "colab": {}
      },
      "source": [
        ""
      ],
      "execution_count": 0,
      "outputs": []
    },
    {
      "cell_type": "markdown",
      "metadata": {
        "id": "ofIvqCWl-_Yi",
        "colab_type": "text"
      },
      "source": [
        "Construyendo un modelo"
      ]
    },
    {
      "cell_type": "code",
      "metadata": {
        "id": "DrpPlNpq_BVN",
        "colab_type": "code",
        "colab": {
          "base_uri": "https://localhost:8080/",
          "height": 105
        },
        "outputId": "47b1ec5d-d7b4-408c-84b5-f5c35276e839"
      },
      "source": [
        "data_path = 'data/'\n",
        "full_data_set = datasets.CIFAR10(data_path, train=True, download=True,\n",
        "                          transform=transforms.Compose([\n",
        "                              transforms.ToTensor(),\n",
        "                              transforms.Normalize((0.4915, 0.4823, 0.4468),\n",
        "                                                   (0.2470, 0.2435, 0.2616))\n",
        "                          ]))\n",
        "\n",
        "full_validation_set = datasets.CIFAR10(data_path, train=False, download=True,\n",
        "                          transform=transforms.Compose([\n",
        "                              transforms.ToTensor(),\n",
        "                              transforms.Normalize((0.4915, 0.4823, 0.4468),\n",
        "                                                   (0.2470, 0.2435, 0.2616))\n",
        "                          ]))"
      ],
      "execution_count": 2,
      "outputs": [
        {
          "output_type": "stream",
          "text": [
            "\r0it [00:00, ?it/s]"
          ],
          "name": "stderr"
        },
        {
          "output_type": "stream",
          "text": [
            "Downloading https://www.cs.toronto.edu/~kriz/cifar-10-python.tar.gz to data/cifar-10-python.tar.gz\n"
          ],
          "name": "stdout"
        },
        {
          "output_type": "stream",
          "text": [
            "170500096it [00:02, 71187206.40it/s]                               \n"
          ],
          "name": "stderr"
        },
        {
          "output_type": "stream",
          "text": [
            "Extracting data/cifar-10-python.tar.gz to data/\n",
            "Files already downloaded and verified\n"
          ],
          "name": "stdout"
        }
      ]
    },
    {
      "cell_type": "code",
      "metadata": {
        "id": "pK_WDfx2_Gma",
        "colab_type": "code",
        "colab": {}
      },
      "source": [
        "#Data loader\n",
        "size = 4\n",
        "dataloader = torch.utils.data.DataLoader(full_data_set, batch_size=size, shuffle=True, num_workers=2)"
      ],
      "execution_count": 0,
      "outputs": []
    },
    {
      "cell_type": "code",
      "metadata": {
        "id": "i5VEOlXl_NLA",
        "colab_type": "code",
        "colab": {
          "base_uri": "https://localhost:8080/",
          "height": 34
        },
        "outputId": "cdf4a005-e209-4a6c-ad11-68435edc32d9"
      },
      "source": [
        "len(full_validation_set)"
      ],
      "execution_count": 4,
      "outputs": [
        {
          "output_type": "execute_result",
          "data": {
            "text/plain": [
              "10000"
            ]
          },
          "metadata": {
            "tags": []
          },
          "execution_count": 4
        }
      ]
    },
    {
      "cell_type": "code",
      "metadata": {
        "id": "VflKeGrN_URW",
        "colab_type": "code",
        "colab": {
          "base_uri": "https://localhost:8080/",
          "height": 34
        },
        "outputId": "e91e761e-01ac-4dd9-9e4b-1185d9022ac8"
      },
      "source": [
        "len(full_data_set)"
      ],
      "execution_count": 5,
      "outputs": [
        {
          "output_type": "execute_result",
          "data": {
            "text/plain": [
              "50000"
            ]
          },
          "metadata": {
            "tags": []
          },
          "execution_count": 5
        }
      ]
    },
    {
      "cell_type": "code",
      "metadata": {
        "id": "hGCUqwtF_YH-",
        "colab_type": "code",
        "colab": {
          "base_uri": "https://localhost:8080/",
          "height": 243
        },
        "outputId": "137ec78c-61f0-4e89-a509-84b094f9f557"
      },
      "source": [
        "data_iterator = iter(dataloader)\n",
        "imgs, labels = data_iterator.next()\n",
        "\n",
        "classes = ['plane','car','bird','cat','deer','dog','frog','horse','ship','truck']\n",
        "\n",
        "plt.imshow(utils.make_grid(imgs).permute(1, 2, 0))\n",
        "\n",
        "for i in range(size):\n",
        "  print(classes[labels[i]])"
      ],
      "execution_count": 6,
      "outputs": [
        {
          "output_type": "stream",
          "text": [
            "Clipping input data to the valid range for imshow with RGB data ([0..1] for floats or [0..255] for integers).\n"
          ],
          "name": "stderr"
        },
        {
          "output_type": "stream",
          "text": [
            "deer\n",
            "dog\n",
            "truck\n",
            "horse\n"
          ],
          "name": "stdout"
        },
        {
          "output_type": "display_data",
          "data": {
            "image/png": "[encoded data removed]",
            "text/plain": [
              "<Figure size 432x288 with 1 Axes>"
            ]
          },
          "metadata": {
            "tags": []
          }
        }
      ]
    },
    {
      "cell_type": "code",
      "metadata": {
        "id": "BfHxFs8E_uGi",
        "colab_type": "code",
        "colab": {}
      },
      "source": [
        "#classes = ['plane','car','bird','cat','deer','dog','frog','horse','ship','truck']\n",
        "class_names = ['car', 'cat']\n",
        "\n",
        "label_map = {1: 0, 3: 1}\n",
        "\n",
        "data_set = [(img, label_map[label]) for img, label in full_data_set if label in [1, 3]]\n",
        "validation_set = [(img, label_map[label]) for img, label in full_validation_set if label in [1, 3]]"
      ],
      "execution_count": 0,
      "outputs": []
    },
    {
      "cell_type": "code",
      "metadata": {
        "id": "3iej73Zn_8ci",
        "colab_type": "code",
        "colab": {
          "base_uri": "https://localhost:8080/",
          "height": 34
        },
        "outputId": "9cac9252-143d-4795-b6df-96d3dac05246"
      },
      "source": [
        "img, label = data_set[20]\n",
        "img.shape"
      ],
      "execution_count": 8,
      "outputs": [
        {
          "output_type": "execute_result",
          "data": {
            "text/plain": [
              "torch.Size([3, 32, 32])"
            ]
          },
          "metadata": {
            "tags": []
          },
          "execution_count": 8
        }
      ]
    },
    {
      "cell_type": "code",
      "metadata": {
        "id": "QcGR41IyAEpo",
        "colab_type": "code",
        "colab": {}
      },
      "source": [
        "#red neuro\n",
        "\n",
        "model = nn.Sequential(\n",
        "    nn.Linear(3 * 32 *32, 512),\n",
        "    nn.Tanh(),\n",
        "    nn.Linear(512, 2))"
      ],
      "execution_count": 0,
      "outputs": []
    },
    {
      "cell_type": "code",
      "metadata": {
        "id": "H-iII8sYAkjW",
        "colab_type": "code",
        "colab": {}
      },
      "source": [
        "def softmax(x): #como resultado tendre 1 \n",
        "    return torch.exp(x) / torch.exp(x).sum()"
      ],
      "execution_count": 0,
      "outputs": []
    },
    {
      "cell_type": "code",
      "metadata": {
        "id": "jkitgjDaAm_6",
        "colab_type": "code",
        "colab": {
          "base_uri": "https://localhost:8080/",
          "height": 51
        },
        "outputId": "288f0f87-f2a9-4b54-ea5d-01f3cab58958"
      },
      "source": [
        "softmax(x)"
      ],
      "execution_count": 24,
      "outputs": [
        {
          "output_type": "execute_result",
          "data": {
            "text/plain": [
              "tensor([[0.0450, 0.1224, 0.3326],\n",
              "        [0.0450, 0.1224, 0.3326]])"
            ]
          },
          "metadata": {
            "tags": []
          },
          "execution_count": 24
        }
      ]
    },
    {
      "cell_type": "code",
      "metadata": {
        "id": "A874iQf9BJby",
        "colab_type": "code",
        "colab": {
          "base_uri": "https://localhost:8080/",
          "height": 34
        },
        "outputId": "6e60baf3-b60b-4114-e03f-6bdd9509718c"
      },
      "source": [
        "softmax(x).sum()"
      ],
      "execution_count": 25,
      "outputs": [
        {
          "output_type": "execute_result",
          "data": {
            "text/plain": [
              "tensor(1.)"
            ]
          },
          "metadata": {
            "tags": []
          },
          "execution_count": 25
        }
      ]
    },
    {
      "cell_type": "code",
      "metadata": {
        "id": "T4UBSOZrBMI9",
        "colab_type": "code",
        "colab": {
          "base_uri": "https://localhost:8080/",
          "height": 51
        },
        "outputId": "84d1dc68-8b93-4301-92b8-426bb630d765"
      },
      "source": [
        "softmax = nn.Softmax(dim=1)\n",
        "\n",
        "x = torch.tensor([[1.0, 2.0, 3.0],\n",
        "                  [1.0, 2.0, 3.0]])\n",
        "\n",
        "softmax(x)"
      ],
      "execution_count": 26,
      "outputs": [
        {
          "output_type": "execute_result",
          "data": {
            "text/plain": [
              "tensor([[0.0900, 0.2447, 0.6652],\n",
              "        [0.0900, 0.2447, 0.6652]])"
            ]
          },
          "metadata": {
            "tags": []
          },
          "execution_count": 26
        }
      ]
    },
    {
      "cell_type": "code",
      "metadata": {
        "id": "HXwr37x-BQ7Y",
        "colab_type": "code",
        "colab": {}
      },
      "source": [
        "model = nn.Sequential(\n",
        "            nn.Linear(3072, 512),\n",
        "            nn.Tanh(),\n",
        "            nn.Linear(512, 2),\n",
        "            nn.Softmax(dim=1))"
      ],
      "execution_count": 0,
      "outputs": []
    },
    {
      "cell_type": "code",
      "metadata": {
        "id": "4KB23P5aBTi3",
        "colab_type": "code",
        "colab": {
          "base_uri": "https://localhost:8080/",
          "height": 320
        },
        "outputId": "d04813cf-143e-4b6c-ed81-ed02f922d2df"
      },
      "source": [
        "img, label = data_set[20]\n",
        "\n",
        "plt.imshow(img.permute(1, 2, 0))\n",
        "class_names[label]"
      ],
      "execution_count": 28,
      "outputs": [
        {
          "output_type": "stream",
          "text": [
            "Clipping input data to the valid range for imshow with RGB data ([0..1] for floats or [0..255] for integers).\n"
          ],
          "name": "stderr"
        },
        {
          "output_type": "execute_result",
          "data": {
            "text/plain": [
              "'car'"
            ]
          },
          "metadata": {
            "tags": []
          },
          "execution_count": 28
        },
        {
          "output_type": "display_data",
          "data": {
            "image/png": "[encoded data removed]",
            "text/plain": [
              "<Figure size 432x288 with 1 Axes>"
            ]
          },
          "metadata": {
            "tags": []
          }
        }
      ]
    },
    {
      "cell_type": "code",
      "metadata": {
        "id": "AqUzgvqEBc-i",
        "colab_type": "code",
        "colab": {
          "base_uri": "https://localhost:8080/",
          "height": 34
        },
        "outputId": "87b4c79c-a4c4-4090-bd9c-2e8a43758219"
      },
      "source": [
        "out = model(img.view(-1).unsqueeze(0))\n",
        "out"
      ],
      "execution_count": 21,
      "outputs": [
        {
          "output_type": "execute_result",
          "data": {
            "text/plain": [
              "tensor([[0.5473, 0.4527]], grad_fn=<SoftmaxBackward>)"
            ]
          },
          "metadata": {
            "tags": []
          },
          "execution_count": 21
        }
      ]
    },
    {
      "cell_type": "code",
      "metadata": {
        "id": "zInzZ4VPBfvv",
        "colab_type": "code",
        "colab": {
          "base_uri": "https://localhost:8080/",
          "height": 34
        },
        "outputId": "4fc1e8e9-81d3-4601-9222-78a35bfda0bc"
      },
      "source": [
        "_, index = torch.max(out, dim=1)\n",
        "\n",
        "print('->',class_names[label],' model:',class_names[index])"
      ],
      "execution_count": 22,
      "outputs": [
        {
          "output_type": "stream",
          "text": [
            "-> car  model: car\n"
          ],
          "name": "stdout"
        }
      ]
    },
    {
      "cell_type": "code",
      "metadata": {
        "id": "41d7nUWDBqDZ",
        "colab_type": "code",
        "colab": {}
      },
      "source": [
        ""
      ],
      "execution_count": 0,
      "outputs": []
    },
    {
      "cell_type": "markdown",
      "metadata": {
        "id": "EWAFyp7SCbA3",
        "colab_type": "text"
      },
      "source": [
        "Implementando un clasificador totalmente conectado"
      ]
    },
    {
      "cell_type": "code",
      "metadata": {
        "id": "SL3920y_Cbns",
        "colab_type": "code",
        "colab": {}
      },
      "source": [
        "model = nn.Sequential(\n",
        "            nn.Linear(3072, 512),\n",
        "            nn.Tanh(),\n",
        "            nn.Linear(512, 2),\n",
        "            nn.LogSoftmax(dim=1))\n",
        "\n",
        "loss = nn.NLLLoss()"
      ],
      "execution_count": 0,
      "outputs": []
    },
    {
      "cell_type": "code",
      "metadata": {
        "id": "JILYDCv2CdxO",
        "colab_type": "code",
        "colab": {
          "base_uri": "https://localhost:8080/",
          "height": 51
        },
        "outputId": "b846c097-2364-4131-ec78-533d25acf3fa"
      },
      "source": [
        "img, label = data_set[20]\n",
        "\n",
        "out = model(img.view(-1).unsqueeze(0))\n",
        "#print(out)\n",
        "_, index = torch.max(out, dim=1)\n",
        "\n",
        "print('->',class_names[label],' model:',class_names[index])\n",
        "\n",
        "loss(out, torch.tensor([label]))"
      ],
      "execution_count": 30,
      "outputs": [
        {
          "output_type": "stream",
          "text": [
            "-> car  model: car\n"
          ],
          "name": "stdout"
        },
        {
          "output_type": "execute_result",
          "data": {
            "text/plain": [
              "tensor(0.4960, grad_fn=<NllLossBackward>)"
            ]
          },
          "metadata": {
            "tags": []
          },
          "execution_count": 30
        }
      ]
    },
    {
      "cell_type": "code",
      "metadata": {
        "id": "F7GsQWT_Ctop",
        "colab_type": "code",
        "colab": {
          "base_uri": "https://localhost:8080/",
          "height": 102
        },
        "outputId": "31839d00-9981-4b6f-8b59-e3c9e5b18146"
      },
      "source": [
        "#construyendo loop\n",
        "\n",
        "model = nn.Sequential(\n",
        "            nn.Linear(3072, 512),\n",
        "            nn.Tanh(),\n",
        "            nn.Linear(512, 2),\n",
        "            nn.LogSoftmax(dim=1)\n",
        "          )\n",
        "\n",
        "loss_function = nn.NLLLoss()\n",
        "optimizer = optim.SGD(model.parameters(), lr=0.01)\n",
        "n_epochs = 5 #100\n",
        "\n",
        "for epoch in range(n_epochs):\n",
        "  for img, label in data_set:\n",
        "      out = model(img.view(-1).unsqueeze(0))\n",
        "      loss =loss_function(out, torch.tensor([label]))\n",
        "\n",
        "      optimizer.zero_grad()\n",
        "      loss.backward()\n",
        "      optimizer.step()\n",
        "\n",
        "  print(\"Epoch: %d, Loss: %f\" % (epoch, float(loss)))"
      ],
      "execution_count": 39,
      "outputs": [
        {
          "output_type": "stream",
          "text": [
            "Epoch: 0, Loss: 0.003600\n",
            "Epoch: 1, Loss: 0.148561\n",
            "Epoch: 2, Loss: 0.579559\n",
            "Epoch: 3, Loss: 0.000610\n",
            "Epoch: 4, Loss: 0.255716\n"
          ],
          "name": "stdout"
        }
      ]
    },
    {
      "cell_type": "code",
      "metadata": {
        "id": "zO3A_IWeDugZ",
        "colab_type": "code",
        "colab": {
          "base_uri": "https://localhost:8080/",
          "height": 1000
        },
        "outputId": "78971404-cef1-4ac9-e9ec-ad2497402e4a"
      },
      "source": [
        "train_loader = torch.utils.data.DataLoader(data_set, batch_size=64, shuffle=True)\n",
        "\n",
        "model = nn.Sequential(\n",
        "            nn.Linear(3072, 512),\n",
        "            nn.Tanh(),\n",
        "            nn.Linear(512, 2),\n",
        "            nn.LogSoftmax(dim=1))\n",
        "\n",
        "\n",
        "optimizer = optim.SGD(model.parameters(), lr=0.02)\n",
        "\n",
        "loss_function = nn.NLLLoss()\n",
        "\n",
        "n_epochs = 100\n",
        "\n",
        "for epoch in range(n_epochs):\n",
        "    for imgs, labels in train_loader:\n",
        "        outputs = model(imgs.view(imgs.shape[0], -1))\n",
        "        loss = loss_function(outputs, labels)\n",
        "\n",
        "        optimizer.zero_grad()\n",
        "        loss.backward()\n",
        "        optimizer.step()\n",
        "\n",
        "    print(\"Epoch: %d, Loss: %f\" % (epoch, float(loss)))"
      ],
      "execution_count": 45,
      "outputs": [
        {
          "output_type": "stream",
          "text": [
            "Epoch: 0, Loss: 0.230570\n",
            "Epoch: 1, Loss: 0.501353\n",
            "Epoch: 2, Loss: 0.523029\n",
            "Epoch: 3, Loss: 0.290014\n",
            "Epoch: 4, Loss: 0.597987\n",
            "Epoch: 5, Loss: 0.419392\n",
            "Epoch: 6, Loss: 0.352151\n",
            "Epoch: 7, Loss: 0.183619\n",
            "Epoch: 8, Loss: 0.318046\n",
            "Epoch: 9, Loss: 0.167017\n",
            "Epoch: 10, Loss: 0.430793\n",
            "Epoch: 11, Loss: 0.154773\n",
            "Epoch: 12, Loss: 0.362383\n",
            "Epoch: 13, Loss: 0.160937\n",
            "Epoch: 14, Loss: 0.191247\n",
            "Epoch: 15, Loss: 0.090759\n",
            "Epoch: 16, Loss: 0.127275\n",
            "Epoch: 17, Loss: 0.132593\n",
            "Epoch: 18, Loss: 0.043094\n",
            "Epoch: 19, Loss: 0.189368\n",
            "Epoch: 20, Loss: 0.045862\n",
            "Epoch: 21, Loss: 0.044824\n",
            "Epoch: 22, Loss: 0.030080\n",
            "Epoch: 23, Loss: 0.047230\n",
            "Epoch: 24, Loss: 0.013001\n",
            "Epoch: 25, Loss: 0.015183\n",
            "Epoch: 26, Loss: 0.040776\n",
            "Epoch: 27, Loss: 0.018876\n",
            "Epoch: 28, Loss: 0.021620\n",
            "Epoch: 29, Loss: 0.019367\n",
            "Epoch: 30, Loss: 0.051680\n",
            "Epoch: 31, Loss: 0.014789\n",
            "Epoch: 32, Loss: 0.030303\n",
            "Epoch: 33, Loss: 0.011555\n",
            "Epoch: 34, Loss: 0.011650\n",
            "Epoch: 35, Loss: 0.013570\n",
            "Epoch: 36, Loss: 0.003078\n",
            "Epoch: 37, Loss: 0.006138\n",
            "Epoch: 38, Loss: 0.027513\n",
            "Epoch: 39, Loss: 0.009973\n",
            "Epoch: 40, Loss: 0.007234\n",
            "Epoch: 41, Loss: 0.012025\n",
            "Epoch: 42, Loss: 0.007698\n",
            "Epoch: 43, Loss: 0.018216\n",
            "Epoch: 44, Loss: 0.006951\n",
            "Epoch: 45, Loss: 0.006028\n",
            "Epoch: 46, Loss: 0.014496\n",
            "Epoch: 47, Loss: 0.004731\n",
            "Epoch: 48, Loss: 0.003263\n",
            "Epoch: 49, Loss: 0.005443\n",
            "Epoch: 50, Loss: 0.009570\n",
            "Epoch: 51, Loss: 0.004720\n",
            "Epoch: 52, Loss: 0.004400\n",
            "Epoch: 53, Loss: 0.004190\n",
            "Epoch: 54, Loss: 0.001381\n",
            "Epoch: 55, Loss: 0.004649\n",
            "Epoch: 56, Loss: 0.006699\n",
            "Epoch: 57, Loss: 0.008632\n",
            "Epoch: 58, Loss: 0.008451\n",
            "Epoch: 59, Loss: 0.005972\n",
            "Epoch: 60, Loss: 0.003881\n",
            "Epoch: 61, Loss: 0.002987\n",
            "Epoch: 62, Loss: 0.004283\n",
            "Epoch: 63, Loss: 0.008168\n",
            "Epoch: 64, Loss: 0.002862\n",
            "Epoch: 65, Loss: 0.004499\n",
            "Epoch: 66, Loss: 0.005673\n",
            "Epoch: 67, Loss: 0.002126\n",
            "Epoch: 68, Loss: 0.003770\n",
            "Epoch: 69, Loss: 0.003725\n",
            "Epoch: 70, Loss: 0.003615\n",
            "Epoch: 71, Loss: 0.004425\n",
            "Epoch: 72, Loss: 0.006682\n",
            "Epoch: 73, Loss: 0.003823\n",
            "Epoch: 74, Loss: 0.003421\n",
            "Epoch: 75, Loss: 0.002971\n",
            "Epoch: 76, Loss: 0.002438\n",
            "Epoch: 77, Loss: 0.002019\n",
            "Epoch: 78, Loss: 0.002851\n",
            "Epoch: 79, Loss: 0.002376\n",
            "Epoch: 80, Loss: 0.006573\n",
            "Epoch: 81, Loss: 0.005643\n",
            "Epoch: 82, Loss: 0.004653\n",
            "Epoch: 83, Loss: 0.004947\n",
            "Epoch: 84, Loss: 0.003328\n",
            "Epoch: 85, Loss: 0.002400\n",
            "Epoch: 86, Loss: 0.003399\n",
            "Epoch: 87, Loss: 0.001424\n",
            "Epoch: 88, Loss: 0.002684\n",
            "Epoch: 89, Loss: 0.001023\n",
            "Epoch: 90, Loss: 0.001976\n",
            "Epoch: 91, Loss: 0.001998\n",
            "Epoch: 92, Loss: 0.004495\n",
            "Epoch: 93, Loss: 0.001296\n",
            "Epoch: 94, Loss: 0.003487\n",
            "Epoch: 95, Loss: 0.002558\n",
            "Epoch: 96, Loss: 0.002533\n",
            "Epoch: 97, Loss: 0.002488\n",
            "Epoch: 98, Loss: 0.001123\n",
            "Epoch: 99, Loss: 0.001878\n"
          ],
          "name": "stdout"
        }
      ]
    },
    {
      "cell_type": "code",
      "metadata": {
        "id": "gKCRvO1MJ0BF",
        "colab_type": "code",
        "colab": {
          "base_uri": "https://localhost:8080/",
          "height": 34
        },
        "outputId": "c54f69fd-84db-48ed-8096-69c66a089bdb"
      },
      "source": [
        "val_loader = torch.utils.data.DataLoader(validation_set, batch_size=64, shuffle=False)\n",
        "\n",
        "correct = 0\n",
        "total = 0\n",
        "\n",
        "with torch.no_grad(): # no_grad es para ignorar los gradientes\n",
        "    for imgs, labels in val_loader:\n",
        "        outputs = model(imgs.view(imgs.shape[0], -1))\n",
        "        _, predicted = torch.max(outputs, dim=1)\n",
        "        total += labels.shape[0]\n",
        "\n",
        "        correct += int((predicted == labels).sum())\n",
        "      \n",
        "print(\"Accuracy: %f\" % (correct / total))\n",
        "\n",
        "#Que tan bueno es el modelo"
      ],
      "execution_count": 46,
      "outputs": [
        {
          "output_type": "stream",
          "text": [
            "Accuracy: 0.867500\n"
          ],
          "name": "stdout"
        }
      ]
    },
    {
      "cell_type": "code",
      "metadata": {
        "id": "xeps-Rj_MZg8",
        "colab_type": "code",
        "colab": {
          "base_uri": "https://localhost:8080/",
          "height": 320
        },
        "outputId": "77f1417f-9b81-41e2-914a-cb1ab6d0a25d"
      },
      "source": [
        "img, label = validation_set[20]\n",
        "out = model(img.view(-1).unsqueeze(0))\n",
        "_, index = torch.max(out, dim=1)\n",
        "out"
      ],
      "execution_count": 47,
      "outputs": [
        {
          "output_type": "stream",
          "text": [
            "Clipping input data to the valid range for imshow with RGB data ([0..1] for floats or [0..255] for integers).\n"
          ],
          "name": "stderr"
        },
        {
          "output_type": "stream",
          "text": [
            "->:  car  model: car\n"
          ],
          "name": "stdout"
        },
        {
          "output_type": "display_data",
          "data": {
            "image/png": "[encoded data removed]",
            "text/plain": [
              "<Figure size 432x288 with 1 Axes>"
            ]
          },
          "metadata": {
            "tags": []
          }
        }
      ]
    },
    {
      "cell_type": "code",
      "metadata": {
        "id": "dECw7RNaMtJ8",
        "colab_type": "code",
        "colab": {
          "base_uri": "https://localhost:8080/",
          "height": 320
        },
        "outputId": "f6aada9f-2768-4a4a-cacd-e851fdad3b6b"
      },
      "source": [
        "\n",
        "print('->: ',class_names[label],' model:',class_names[index])\n",
        "plt.imshow(img.permute(1, 2, 0))\n",
        "plt.show()"
      ],
      "execution_count": 48,
      "outputs": [
        {
          "output_type": "stream",
          "text": [
            "Clipping input data to the valid range for imshow with RGB data ([0..1] for floats or [0..255] for integers).\n"
          ],
          "name": "stderr"
        },
        {
          "output_type": "stream",
          "text": [
            "->:  car  model: car\n"
          ],
          "name": "stdout"
        },
        {
          "output_type": "display_data",
          "data": {
            "image/png": "[encoded data removed]",
            "text/plain": [
              "<Figure size 432x288 with 1 Axes>"
            ]
          },
          "metadata": {
            "tags": []
          }
        }
      ]
    },
    {
      "cell_type": "code",
      "metadata": {
        "id": "Z23K5C_sM3X0",
        "colab_type": "code",
        "colab": {}
      },
      "source": [
        ""
      ],
      "execution_count": 0,
      "outputs": []
    },
    {
      "cell_type": "markdown",
      "metadata": {
        "id": "16aFjS-mNCWb",
        "colab_type": "text"
      },
      "source": [
        "**Mejoras, limitaciones y conclusiones**"
      ]
    },
    {
      "cell_type": "code",
      "metadata": {
        "id": "Ib9DM9CcNHuW",
        "colab_type": "code",
        "colab": {
          "base_uri": "https://localhost:8080/",
          "height": 1000
        },
        "outputId": "ecc1d781-3a22-4084-bf82-036ee5809f9b"
      },
      "source": [
        "train_loader = torch.utils.data.DataLoader(data_set, batch_size=64, shuffle=True)\n",
        "\n",
        "model = nn.Sequential(\n",
        "            nn.Linear(3072, 1024),\n",
        "            nn.Tanh(),\n",
        "            nn.Linear(1024, 512), #agregamos otra transformacion linear.\n",
        "            nn.Tanh(),\n",
        "            nn.Linear(512, 128),\n",
        "            nn.Tanh(),\n",
        "            nn.Linear(128, 2))\n",
        "\n",
        "learning_rate = 0.01\n",
        "\n",
        "optimizer = optim.SGD(model.parameters(), lr=learning_rate)\n",
        "\n",
        "loss_fn = nn.CrossEntropyLoss() #loss calculado con algorithms negativos tiene \n",
        "#un efecto de CrossEntropyLoss\n",
        "\n",
        "n_epochs = 100\n",
        "\n",
        "for epoch in range(n_epochs):\n",
        "    for imgs, labels in train_loader:\n",
        "        outputs = model(imgs.view(imgs.shape[0], -1))\n",
        "        loss = loss_fn(outputs, labels)\n",
        "\n",
        "        optimizer.zero_grad()\n",
        "        loss.backward()\n",
        "        optimizer.step()\n",
        "\n",
        "    print(\"Epoch: %d, Loss: %f\" % (epoch, float(loss)))"
      ],
      "execution_count": 49,
      "outputs": [
        {
          "output_type": "stream",
          "text": [
            "Epoch: 0, Loss: 0.582472\n",
            "Epoch: 1, Loss: 0.421379\n",
            "Epoch: 2, Loss: 0.857895\n",
            "Epoch: 3, Loss: 0.438767\n",
            "Epoch: 4, Loss: 0.350848\n",
            "Epoch: 5, Loss: 0.350863\n",
            "Epoch: 6, Loss: 0.341924\n",
            "Epoch: 7, Loss: 0.412185\n",
            "Epoch: 8, Loss: 0.309569\n",
            "Epoch: 9, Loss: 0.271916\n",
            "Epoch: 10, Loss: 0.543917\n",
            "Epoch: 11, Loss: 0.072554\n",
            "Epoch: 12, Loss: 0.236930\n",
            "Epoch: 13, Loss: 0.278091\n",
            "Epoch: 14, Loss: 0.233913\n",
            "Epoch: 15, Loss: 0.073121\n",
            "Epoch: 16, Loss: 0.157012\n",
            "Epoch: 17, Loss: 0.185323\n",
            "Epoch: 18, Loss: 0.357059\n",
            "Epoch: 19, Loss: 0.074111\n",
            "Epoch: 20, Loss: 0.226851\n",
            "Epoch: 21, Loss: 0.077464\n",
            "Epoch: 22, Loss: 0.290110\n",
            "Epoch: 23, Loss: 0.095834\n",
            "Epoch: 24, Loss: 0.119826\n",
            "Epoch: 25, Loss: 0.076115\n",
            "Epoch: 26, Loss: 0.180067\n",
            "Epoch: 27, Loss: 0.042486\n",
            "Epoch: 28, Loss: 0.065231\n",
            "Epoch: 29, Loss: 0.096677\n",
            "Epoch: 30, Loss: 0.009064\n",
            "Epoch: 31, Loss: 0.035911\n",
            "Epoch: 32, Loss: 0.060583\n",
            "Epoch: 33, Loss: 0.161159\n",
            "Epoch: 34, Loss: 0.006744\n",
            "Epoch: 35, Loss: 0.002993\n",
            "Epoch: 36, Loss: 0.005106\n",
            "Epoch: 37, Loss: 0.005606\n",
            "Epoch: 38, Loss: 0.012211\n",
            "Epoch: 39, Loss: 0.008059\n",
            "Epoch: 40, Loss: 0.003606\n",
            "Epoch: 41, Loss: 0.001365\n",
            "Epoch: 42, Loss: 0.003334\n",
            "Epoch: 43, Loss: 0.004469\n",
            "Epoch: 44, Loss: 0.001343\n",
            "Epoch: 45, Loss: 0.001301\n",
            "Epoch: 46, Loss: 0.001456\n",
            "Epoch: 47, Loss: 0.001063\n",
            "Epoch: 48, Loss: 0.000978\n",
            "Epoch: 49, Loss: 0.001569\n",
            "Epoch: 50, Loss: 0.001881\n",
            "Epoch: 51, Loss: 0.008069\n",
            "Epoch: 52, Loss: 0.000926\n",
            "Epoch: 53, Loss: 0.000879\n",
            "Epoch: 54, Loss: 0.000263\n",
            "Epoch: 55, Loss: 0.001064\n",
            "Epoch: 56, Loss: 0.001206\n",
            "Epoch: 57, Loss: 0.000884\n",
            "Epoch: 58, Loss: 0.001516\n",
            "Epoch: 59, Loss: 0.000277\n",
            "Epoch: 60, Loss: 0.001198\n",
            "Epoch: 61, Loss: 0.001033\n",
            "Epoch: 62, Loss: 0.000147\n",
            "Epoch: 63, Loss: 0.001477\n",
            "Epoch: 64, Loss: 0.000667\n",
            "Epoch: 65, Loss: 0.001378\n",
            "Epoch: 66, Loss: 0.001265\n",
            "Epoch: 67, Loss: 0.001531\n",
            "Epoch: 68, Loss: 0.000749\n",
            "Epoch: 69, Loss: 0.001796\n",
            "Epoch: 70, Loss: 0.000942\n",
            "Epoch: 71, Loss: 0.002205\n",
            "Epoch: 72, Loss: 0.000595\n",
            "Epoch: 73, Loss: 0.000598\n",
            "Epoch: 74, Loss: 0.000353\n",
            "Epoch: 75, Loss: 0.000981\n",
            "Epoch: 76, Loss: 0.000831\n",
            "Epoch: 77, Loss: 0.001011\n",
            "Epoch: 78, Loss: 0.000937\n",
            "Epoch: 79, Loss: 0.000400\n",
            "Epoch: 80, Loss: 0.000456\n",
            "Epoch: 81, Loss: 0.000200\n",
            "Epoch: 82, Loss: 0.000043\n",
            "Epoch: 83, Loss: 0.000903\n",
            "Epoch: 84, Loss: 0.000208\n",
            "Epoch: 85, Loss: 0.000177\n",
            "Epoch: 86, Loss: 0.000417\n",
            "Epoch: 87, Loss: 0.000769\n",
            "Epoch: 88, Loss: 0.000304\n",
            "Epoch: 89, Loss: 0.000204\n"
          ],
          "name": "stdout"
        },
        {
          "output_type": "error",
          "ename": "KeyboardInterrupt",
          "evalue": "ignored",
          "traceback": [
            "\u001b[0;31m---------------------------------------------------------------------------\u001b[0m",
            "\u001b[0;31mKeyboardInterrupt\u001b[0m                         Traceback (most recent call last)",
            "\u001b[0;32m<ipython-input-49-d8388af97c86>\u001b[0m in \u001b[0;36m<module>\u001b[0;34m()\u001b[0m\n\u001b[1;32m     26\u001b[0m         \u001b[0moptimizer\u001b[0m\u001b[0;34m.\u001b[0m\u001b[0mzero_grad\u001b[0m\u001b[0;34m(\u001b[0m\u001b[0;34m)\u001b[0m\u001b[0;34m\u001b[0m\u001b[0;34m\u001b[0m\u001b[0m\n\u001b[1;32m     27\u001b[0m         \u001b[0mloss\u001b[0m\u001b[0;34m.\u001b[0m\u001b[0mbackward\u001b[0m\u001b[0;34m(\u001b[0m\u001b[0;34m)\u001b[0m\u001b[0;34m\u001b[0m\u001b[0;34m\u001b[0m\u001b[0m\n\u001b[0;32m---> 28\u001b[0;31m         \u001b[0moptimizer\u001b[0m\u001b[0;34m.\u001b[0m\u001b[0mstep\u001b[0m\u001b[0;34m(\u001b[0m\u001b[0;34m)\u001b[0m\u001b[0;34m\u001b[0m\u001b[0;34m\u001b[0m\u001b[0m\n\u001b[0m\u001b[1;32m     29\u001b[0m \u001b[0;34m\u001b[0m\u001b[0m\n\u001b[1;32m     30\u001b[0m     \u001b[0mprint\u001b[0m\u001b[0;34m(\u001b[0m\u001b[0;34m\"Epoch: %d, Loss: %f\"\u001b[0m \u001b[0;34m%\u001b[0m \u001b[0;34m(\u001b[0m\u001b[0mepoch\u001b[0m\u001b[0;34m,\u001b[0m \u001b[0mfloat\u001b[0m\u001b[0;34m(\u001b[0m\u001b[0mloss\u001b[0m\u001b[0;34m)\u001b[0m\u001b[0;34m)\u001b[0m\u001b[0;34m)\u001b[0m\u001b[0;34m\u001b[0m\u001b[0;34m\u001b[0m\u001b[0m\n",
            "\u001b[0;32m/usr/local/lib/python3.6/dist-packages/torch/optim/sgd.py\u001b[0m in \u001b[0;36mstep\u001b[0;34m(self, closure)\u001b[0m\n\u001b[1;32m    104\u001b[0m                         \u001b[0md_p\u001b[0m \u001b[0;34m=\u001b[0m \u001b[0mbuf\u001b[0m\u001b[0;34m\u001b[0m\u001b[0;34m\u001b[0m\u001b[0m\n\u001b[1;32m    105\u001b[0m \u001b[0;34m\u001b[0m\u001b[0m\n\u001b[0;32m--> 106\u001b[0;31m                 \u001b[0mp\u001b[0m\u001b[0;34m.\u001b[0m\u001b[0mdata\u001b[0m\u001b[0;34m.\u001b[0m\u001b[0madd_\u001b[0m\u001b[0;34m(\u001b[0m\u001b[0;34m-\u001b[0m\u001b[0mgroup\u001b[0m\u001b[0;34m[\u001b[0m\u001b[0;34m'lr'\u001b[0m\u001b[0;34m]\u001b[0m\u001b[0;34m,\u001b[0m \u001b[0md_p\u001b[0m\u001b[0;34m)\u001b[0m\u001b[0;34m\u001b[0m\u001b[0;34m\u001b[0m\u001b[0m\n\u001b[0m\u001b[1;32m    107\u001b[0m \u001b[0;34m\u001b[0m\u001b[0m\n\u001b[1;32m    108\u001b[0m         \u001b[0;32mreturn\u001b[0m \u001b[0mloss\u001b[0m\u001b[0;34m\u001b[0m\u001b[0;34m\u001b[0m\u001b[0m\n",
            "\u001b[0;31mKeyboardInterrupt\u001b[0m: "
          ]
        }
      ]
    },
    {
      "cell_type": "code",
      "metadata": {
        "id": "HlXvOuEMZC_G",
        "colab_type": "code",
        "colab": {
          "base_uri": "https://localhost:8080/",
          "height": 34
        },
        "outputId": "beec7470-950e-4269-9f12-9d7ae77255af"
      },
      "source": [
        "val_loader = torch.utils.data.DataLoader(validation_set, batch_size=64, shuffle=False)\n",
        "\n",
        "correct = 0\n",
        "total = 0\n",
        "\n",
        "with torch.no_grad():\n",
        "    for imgs, labels in val_loader:\n",
        "        outputs = model(imgs.view(imgs.shape[0], -1))\n",
        "        _, predicted = torch.max(outputs, dim=1)\n",
        "        total += labels.shape[0]\n",
        "        correct += int((predicted == labels).sum())\n",
        "        \n",
        "print(\"Accuracy: %f\" % (correct / total))"
      ],
      "execution_count": 53,
      "outputs": [
        {
          "output_type": "stream",
          "text": [
            "Accuracy: 0.862000\n"
          ],
          "name": "stdout"
        }
      ]
    },
    {
      "cell_type": "code",
      "metadata": {
        "id": "WSSoW97kZFKJ",
        "colab_type": "code",
        "colab": {
          "base_uri": "https://localhost:8080/",
          "height": 34
        },
        "outputId": "656f3f71-0e8a-4454-bebe-5fb7cf88fecc"
      },
      "source": [
        "#entrenamiento. Cuando estamos entrenando una red neuronal, no queremos que nos de\n",
        "# como resultado 100, porque eso quiere decir que lo ha memorizado. \n",
        "train_loader = torch.utils.data.DataLoader(data_set, batch_size=64, shuffle=False)\n",
        "\n",
        "correct = 0\n",
        "total = 0\n",
        "\n",
        "with torch.no_grad():\n",
        "    for imgs, labels in train_loader:\n",
        "        outputs = model(imgs.view(imgs.shape[0], -1))\n",
        "        _, predicted = torch.max(outputs, dim=1)\n",
        "        total += labels.shape[0]\n",
        "        correct += int((predicted == labels).sum())\n",
        "        \n",
        "print(\"Accuracy: %f\" % (correct / total))"
      ],
      "execution_count": 54,
      "outputs": [
        {
          "output_type": "stream",
          "text": [
            "Accuracy: 1.000000\n"
          ],
          "name": "stdout"
        }
      ]
    },
    {
      "cell_type": "code",
      "metadata": {
        "id": "kcuOAHruZfz8",
        "colab_type": "code",
        "colab": {
          "base_uri": "https://localhost:8080/",
          "height": 34
        },
        "outputId": "3a534215-8d57-49f6-9a04-6969c332652d"
      },
      "source": [
        "#como podemos contar cuantos parametros tenemos? ya que el modelo tiene un problema de over-fitting\n",
        "\n",
        "sum([p.numel() for p in model.parameters() if p.requires_grad == True])"
      ],
      "execution_count": 51,
      "outputs": [
        {
          "output_type": "execute_result",
          "data": {
            "text/plain": [
              "3737474"
            ]
          },
          "metadata": {
            "tags": []
          },
          "execution_count": 51
        }
      ]
    },
    {
      "cell_type": "code",
      "metadata": {
        "id": "KgvRKL0RZ-1S",
        "colab_type": "code",
        "colab": {}
      },
      "source": [
        ""
      ],
      "execution_count": 0,
      "outputs": []
    }
  ]
}